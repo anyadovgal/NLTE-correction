{
 "cells": [
  {
   "cell_type": "markdown",
   "id": "a2c65a1d",
   "metadata": {},
   "source": [
    "## Script to perform NLTE correction using MPIA\n",
    "Some notes: mechanicalsoup is required to be installed in order to run this.\n",
    "\n",
    "This script uses data obtained from the **MPIA NLTE Correction** tool (nlte.mpia.de) from:\n",
    "\n",
    " **O**:\n",
    " - Sitnova, Mashonkina, Ryabchikova 2013, AstL, 39, 126S\n",
    " \n",
    " **Mg (IR)**:\n",
    " - Bergemann, Kudritzki, Gazak et al. 2015, ApJ, 804, 113\n",
    " \n",
    " **Mg (optical)**:\n",
    " - Bergemann, Collet, Amarsi et al. 2017, ApJ, 847, 15\n",
    " \n",
    " **Si**:\n",
    " - Bergemann, Kudritzki, Plez et al. 2013, ApJ, 764, 115\n",
    " \n",
    " **Ca**:\n",
    " - Mashonkina, L.; Korn, A. J.; Przybilla, N. 2007, A&A, 461, 261M\n",
    " \n",
    " **Ti**:\n",
    " - Bergemann 2011, MNRAS, 413, 2184\n",
    "\n",
    "**Cr**: \n",
    "- Bergemann, M., Cescutti, G. A&A, 522, A9, 13 pp. \n",
    "\n",
    " **Mn**:\n",
    " - Bergemann & Gehren 2008, A&A, 492, 823\n",
    " \n",
    " **Fe, Ti (IR)**: \n",
    " - Bergemann, Kudritzki, Plez et al. 2012, ApJ, 751, 156\n",
    " \n",
    " **Fe (optical)**:\n",
    " - Bergemann, Lind, Collet et al. 2012, MNRAS, 427, 1\n",
    " \n",
    " **Co**:\n",
    " - Bergemann, Pickering, & Gehren 2010, MNRAS, 401, 1334\n"
   ]
  },
  {
   "cell_type": "code",
   "execution_count": null,
   "id": "aefaa849",
   "metadata": {},
   "outputs": [],
   "source": [
    "# If mechanical soup isn't installed, install either here, or via your preferred method\n",
    "# pip install mechanicalsoup"
   ]
  },
  {
   "cell_type": "code",
   "execution_count": 1,
   "id": "f5308323",
   "metadata": {},
   "outputs": [],
   "source": [
    "import mechanicalsoup\n",
    "import numpy as np\n",
    "import pandas as pd"
   ]
  },
  {
   "cell_type": "code",
   "execution_count": 31,
   "id": "fd0b893e",
   "metadata": {},
   "outputs": [],
   "source": [
    "#           ['O', 'Mg', 'Si', 'CaI', 'CaII', 'TiI', 'TiII', 'Cr', 'Mn', 'FeI', 'FeII', 'Co']\n",
    "elem_list = [8.01, 12.01, 14.01, 20.01, 20.02, 22.01, 22.02, 24.01, 25.01, 26.01, 26.02, 27.01]"
   ]
  },
  {
   "cell_type": "code",
   "execution_count": 80,
   "id": "e0d7585c",
   "metadata": {},
   "outputs": [],
   "source": [
    "def nlte_cor(elem, lines, t, g, feh, vt):\n",
    "    \"\"\"\n",
    "    DESCRIPTION --------------------------------------------------------\n",
    "        Given input parameters, return the NLTE correction performed by MPIA\n",
    "        \n",
    "    PARAMETERS ---------------------------------------------------------\n",
    "        elem (float) - a chemical element in the form of the contents of elem_list,\n",
    "            defined in the previous code-block\n",
    "        lines (list(float)) - a list of the lines at which you want the NLTE correction\n",
    "            to be performed for this element\n",
    "        t (float) - the effective temperature of your star\n",
    "        g (float) - the surface gravity of your star\n",
    "        feh (float) - the metallicity [Fe/H] of your star\n",
    "        vt (float) - the micro-turbulent velocity of your star\n",
    "        \n",
    "    RETURNS -------------------------------------------------------------\n",
    "        np.array() - a 2D numpy array with 3 elements per row, such that each row\n",
    "            has the element id, line at which the correction was performed, and\n",
    "            the resulting correction delta\n",
    "            [elem, line, delta]\n",
    "            \n",
    "            If the correction was not able to be performed, delta is replaced with the\n",
    "            value '999'\n",
    "    \"\"\"\n",
    "    # If the element isn't in the element list, return 999 for delta\n",
    "    if elem not in elem_list:\n",
    "        print('Element not available: ' + str(elem))\n",
    "        delta = np.full(len(lines), 999.0)\n",
    "        return np.transpose(np.array([np.full(len(lines), elem), lines, delta]))\n",
    "\n",
    "    # If the element is either O, Mn, or Co, the NLTE correction must be done at\n",
    "    #  a separate webpage\n",
    "    if elem in [8.01, 25.01, 27.01]:\n",
    "        weblink = 'https://nlte.mpia.de/gui-siuAC_secEnew.php'\n",
    "    else:\n",
    "        weblink = \"https://nlte.mpia.de/gui-siuAC_secE.php\"\n",
    "    \n",
    "    browser = mechanicalsoup.StatefulBrowser()\n",
    "    browser.open(weblink)\n",
    "    \n",
    "    form = browser.select_form()\n",
    "    \n",
    "    param_txt = \"{} {} {} {} {}\".format('my_star', t, g, feh, vt)\n",
    "    form.set_textarea({\"user_input\":param_txt})\n",
    "    \n",
    "    line_txt = \"\"\n",
    "    \n",
    "    for line in lines:\n",
    "        append = \"{} {}\\n\".format(line, elem)\n",
    "        line_txt += append\n",
    "        \n",
    "    form.set_textarea({\"lines_input\":line_txt})\n",
    "    \n",
    "    browser.submit_selected()\n",
    "        \n",
    "    result_txt = browser.page.get_text().split('lines(A)')[-1].split('Download')[0].split('my_star')\n",
    "    \n",
    "    lines = result_txt[0].split()\n",
    "    delta = result_txt[1].split()\n",
    "        \n",
    "    for i, d in enumerate(delta):\n",
    "        if float(d) == 30.0:\n",
    "            delta[i] = 999.0\n",
    "            print('Line not in linelist (or too weak) at: ' + str(elem) + ' ' + str(lines[i]))\n",
    "        elif float(d) == 20.0:\n",
    "            delta[i] = 999.0\n",
    "            print('NLTE not converged at: ' + str(elem) + ' ' + str(lines[i]))\n",
    "        elif float(d) == 10.0:\n",
    "            delta[i] = 999.0\n",
    "            print('Error in lineformation' + str(elem) + ' ' + str(lines[i]))\n",
    "    # This is a fail-safe, feel free to comment out the below condition if you do not want it\n",
    "        elif float(d) == 0.0:\n",
    "            delta[i] = 999.0\n",
    "            print('No NLTE departures for this line' + str(elem) + ' ' + str(lines[i]))\n",
    "\n",
    "\n",
    "    return np.transpose(np.array([np.full(len(lines), elem), lines, delta]))"
   ]
  },
  {
   "cell_type": "markdown",
   "id": "bd5a3e6f",
   "metadata": {},
   "source": [
    "## Example of one element usage:"
   ]
  },
  {
   "cell_type": "code",
   "execution_count": 55,
   "id": "3c0dce8d",
   "metadata": {},
   "outputs": [],
   "source": [
    "test_lines = [5379.574, 3125.680, 8179.030]"
   ]
  },
  {
   "cell_type": "code",
   "execution_count": 56,
   "id": "8dda7818",
   "metadata": {},
   "outputs": [
    {
     "name": "stdout",
     "output_type": "stream",
     "text": [
      "Line not in linelist at: 26.01 5379.574\n",
      "Line not in linelist at: 26.01 8179.03\n"
     ]
    },
    {
     "data": {
      "text/plain": [
       "array([['26.01', '5379.574', '999'],\n",
       "       ['26.01', '3125.68', '0.139'],\n",
       "       ['26.01', '8179.03', '999']], dtype='<U32')"
      ]
     },
     "execution_count": 56,
     "metadata": {},
     "output_type": "execute_result"
    }
   ],
   "source": [
    "nlte_cor(26.01, test_lines, 6491, 4.44, -3.16, 1.11)"
   ]
  },
  {
   "cell_type": "markdown",
   "id": "cbcbf110",
   "metadata": {},
   "source": [
    "### For easy use, input data should follow a convention similar to:\n",
    "```python\n",
    "df = pd.DataFrame(data_array)\n",
    "df.columns = ['elem', 'line']\n",
    "star_info = ['T', 'log(g)', '[Fe/H]', 'vt'] # Can import directly from the atmosphere params csv\n",
    "```\n",
    "\n",
    "#### To quickly convert a numeric id to the string required to run the script, using pandas, I find that this following method works great:\n",
    "\n",
    "```python\n",
    "elem_dict = {8:8.01, 12:12.01, 14:14.01, 20:20.01, 20.1:20.02, 22:22.01, 22.1:22.02, 24:24.01, 25:25.01, 26:26.01, 26.1:26.02, 27:27.01}\n",
    "df[['elem']] = df[['elem']].replace(elem_dict)\n",
    "```\n",
    "\n",
    "#### And this is a quick way to run multiple lines into the script\n",
    "```python\n",
    "df = df.sort_values('elem')\n",
    "\n",
    "grouped = df.groupby('elem')\n",
    "\n",
    "results = []\n",
    "\n",
    "for elem in df.elem.unique():\n",
    "    linelist = grouped.get_group(elem).to_numpy()[:,0]\n",
    "    results.append(nlte_cor(elem, linelist, *star_info))\n",
    "    print(elem)\n",
    "    \n",
    "results = np.concatenate(results)\n",
    "\n",
    "df = pd.DataFrame(results)\n",
    "df.columns = ['elem', 'line', 'NLTE delta']\n",
    "```"
   ]
  },
  {
   "cell_type": "markdown",
   "id": "83fbabf3",
   "metadata": {},
   "source": [
    "## Example of multi-element usage:"
   ]
  },
  {
   "cell_type": "code",
   "execution_count": 83,
   "id": "2e5c8f9a",
   "metadata": {},
   "outputs": [],
   "source": [
    "elem = [3, 12, 11, 26.1, 26.1, 9, 5, 22, 22, 22.1]\n",
    "line = [6103.6, 5172.68, 5688.2, 3815.84, 3565.380, 5638.2, 8392.9, 5702.67, 7362.93, 6092.798]\n",
    "\n",
    "df = pd.DataFrame(np.transpose([elem, line]))\n",
    "df.columns = ['elem', 'line']\n",
    "star_info = [6400, 3, -3, 1.5]\n",
    "\n",
    "elem_dict = {8:8.01, 12:12.01, 14:14.01, 20:20.01, 20.1:20.02, 22:22.01, 22.1:22.02, 24:24.01, 25:25.01, 26:26.01, 26.1:26.02, 27:27.01}\n",
    "df[['elem']] = df[['elem']].replace(elem_dict)\n",
    "\n",
    "df = df.sort_values('elem')"
   ]
  },
  {
   "cell_type": "code",
   "execution_count": 84,
   "id": "f2c4be86",
   "metadata": {},
   "outputs": [
    {
     "name": "stdout",
     "output_type": "stream",
     "text": [
      "Element not available: 3.0\n",
      "3.0\n",
      "Element not available: 5.0\n",
      "5.0\n",
      "Element not available: 9.0\n",
      "9.0\n",
      "Element not available: 11.0\n",
      "11.0\n",
      "12.01\n",
      "Line not in linelist (or too weak) at: 22.01 5702.67\n",
      "Line not in linelist (or too weak) at: 22.01 7362.93\n",
      "22.01\n",
      "Line not in linelist (or too weak) at: 22.02 6092.798\n",
      "22.02\n",
      "Line not in linelist (or too weak) at: 26.02 3815.84\n",
      "Line not in linelist (or too weak) at: 26.02 3565.38\n",
      "26.02\n"
     ]
    }
   ],
   "source": [
    "grouped = df.groupby('elem')\n",
    "\n",
    "results = []\n",
    "\n",
    "for elem in df.elem.unique():\n",
    "    linelist = grouped.get_group(elem).to_numpy()[:,1] # Make sure that this returns the lines!!!\n",
    "    results.append(nlte_cor(elem, linelist, *star_info))\n",
    "    print(elem)\n",
    "    \n",
    "results = np.concatenate(results)"
   ]
  },
  {
   "cell_type": "code",
   "execution_count": 90,
   "id": "e88191ee",
   "metadata": {},
   "outputs": [
    {
     "data": {
      "text/html": [
       "<div>\n",
       "<style scoped>\n",
       "    .dataframe tbody tr th:only-of-type {\n",
       "        vertical-align: middle;\n",
       "    }\n",
       "\n",
       "    .dataframe tbody tr th {\n",
       "        vertical-align: top;\n",
       "    }\n",
       "\n",
       "    .dataframe thead th {\n",
       "        text-align: right;\n",
       "    }\n",
       "</style>\n",
       "<table border=\"1\" class=\"dataframe\">\n",
       "  <thead>\n",
       "    <tr style=\"text-align: right;\">\n",
       "      <th></th>\n",
       "      <th>elem</th>\n",
       "      <th>line</th>\n",
       "      <th>delta</th>\n",
       "    </tr>\n",
       "  </thead>\n",
       "  <tbody>\n",
       "    <tr>\n",
       "      <th>0</th>\n",
       "      <td>3.0</td>\n",
       "      <td>6103.6</td>\n",
       "      <td>999.0</td>\n",
       "    </tr>\n",
       "    <tr>\n",
       "      <th>1</th>\n",
       "      <td>5.0</td>\n",
       "      <td>8392.9</td>\n",
       "      <td>999.0</td>\n",
       "    </tr>\n",
       "    <tr>\n",
       "      <th>2</th>\n",
       "      <td>9.0</td>\n",
       "      <td>5638.2</td>\n",
       "      <td>999.0</td>\n",
       "    </tr>\n",
       "    <tr>\n",
       "      <th>3</th>\n",
       "      <td>11.0</td>\n",
       "      <td>5688.2</td>\n",
       "      <td>999.0</td>\n",
       "    </tr>\n",
       "    <tr>\n",
       "      <th>4</th>\n",
       "      <td>12.01</td>\n",
       "      <td>5172.68</td>\n",
       "      <td>0.159</td>\n",
       "    </tr>\n",
       "    <tr>\n",
       "      <th>5</th>\n",
       "      <td>22.01</td>\n",
       "      <td>5702.67</td>\n",
       "      <td>999.0</td>\n",
       "    </tr>\n",
       "    <tr>\n",
       "      <th>6</th>\n",
       "      <td>22.01</td>\n",
       "      <td>7362.93</td>\n",
       "      <td>999.0</td>\n",
       "    </tr>\n",
       "    <tr>\n",
       "      <th>7</th>\n",
       "      <td>22.02</td>\n",
       "      <td>6092.798</td>\n",
       "      <td>999.0</td>\n",
       "    </tr>\n",
       "    <tr>\n",
       "      <th>8</th>\n",
       "      <td>26.02</td>\n",
       "      <td>3815.84</td>\n",
       "      <td>999.0</td>\n",
       "    </tr>\n",
       "    <tr>\n",
       "      <th>9</th>\n",
       "      <td>26.02</td>\n",
       "      <td>3565.38</td>\n",
       "      <td>999.0</td>\n",
       "    </tr>\n",
       "  </tbody>\n",
       "</table>\n",
       "</div>"
      ],
      "text/plain": [
       "    elem      line  delta\n",
       "0    3.0    6103.6  999.0\n",
       "1    5.0    8392.9  999.0\n",
       "2    9.0    5638.2  999.0\n",
       "3   11.0    5688.2  999.0\n",
       "4  12.01   5172.68  0.159\n",
       "5  22.01   5702.67  999.0\n",
       "6  22.01   7362.93  999.0\n",
       "7  22.02  6092.798  999.0\n",
       "8  26.02   3815.84  999.0\n",
       "9  26.02   3565.38  999.0"
      ]
     },
     "execution_count": 90,
     "metadata": {},
     "output_type": "execute_result"
    }
   ],
   "source": [
    "df = pd.DataFrame(results)\n",
    "df.columns = ['elem', 'line', 'delta']\n",
    "df"
   ]
  },
  {
   "cell_type": "code",
   "execution_count": null,
   "id": "e5f9981c",
   "metadata": {},
   "outputs": [],
   "source": []
  }
 ],
 "metadata": {
  "kernelspec": {
   "display_name": "Python 3 (ipykernel)",
   "language": "python",
   "name": "python3"
  },
  "language_info": {
   "codemirror_mode": {
    "name": "ipython",
    "version": 3
   },
   "file_extension": ".py",
   "mimetype": "text/x-python",
   "name": "python",
   "nbconvert_exporter": "python",
   "pygments_lexer": "ipython3",
   "version": "3.8.3"
  }
 },
 "nbformat": 4,
 "nbformat_minor": 5
}
