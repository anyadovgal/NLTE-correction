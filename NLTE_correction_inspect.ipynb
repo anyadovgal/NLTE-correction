{
 "cells": [
  {
   "cell_type": "markdown",
   "id": "disciplinary-tourism",
   "metadata": {},
   "source": [
    "## Script to get NLTE corrections from inspect-stars.com\n",
    "Note: This notebook isn't all-encompassing, and must have the site functioning in order for the script to work.\n",
    "\n",
    "This script uses data from:\n",
    "\n",
    "**Lithium**:\n",
    "- Lind, Asplund, & Barklem, 2009, A&A, 503, 541\n",
    "\n",
    "**Oxygen**: \n",
    "- Amarsi, Asplund, Collet & Leenaarts 2015, MNRAS, 454, 11 \n",
    "\n",
    "**Sodium**: \n",
    "- Lind, Asplund, Barklem, & Belyaev, 2011, A&A, 528, 103\n",
    "\n",
    "**Magnesium**: \n",
    "- Osorio, Barklem, Lind, et al., 2015, A&A, 579, 530\n",
    "- Osorio & Barklem 2015, arXiv:1510.05165\n",
    "\n",
    "**Titanium**: \n",
    "- Bergemann 2011, MNRAS, 413, 2184\n",
    "\n",
    "**Iron**: \n",
    "- Bergemann, Lind, Collet, Asplund, & Magic, 2012, MNRAS\n",
    "- Lind, Bergemann, & Asplund, 2012, MNRAS\n",
    "\n",
    "**Strontium**: \n",
    "- Bergemann, Hansen, Bautista & Ruchti 2012, A&A, 546, 90"
   ]
  },
  {
   "cell_type": "code",
   "execution_count": 1,
   "id": "corporate-pilot",
   "metadata": {},
   "outputs": [],
   "source": [
    "import numpy as np\n",
    "import pandas as pd\n",
    "import re\n",
    "from urllib.request import urlopen"
   ]
  },
  {
   "cell_type": "code",
   "execution_count": 2,
   "id": "lesbian-livestock",
   "metadata": {},
   "outputs": [],
   "source": [
    "app_url = 'http://www.inspect-stars.com/cp/application.py/'\n",
    "elem_list = ['Li', 'O', 'Na', 'Mg', 'Ti', 'Fe', 'Sr']"
   ]
  },
  {
   "cell_type": "code",
   "execution_count": 3,
   "id": "essential-visitor",
   "metadata": {},
   "outputs": [],
   "source": [
    "# Returns the index for the line in the dict, or if it is within dw, returns the\n",
    "#  nearest line (index).\n",
    "def check_near(line, lines_dict):\n",
    "    # TOLERANCE, change if you wish.\n",
    "    dw = 0.2\n",
    "    \n",
    "    keys = lines_dict.keys()\n",
    "    values = list(lines_dict.values())\n",
    "    \n",
    "    if line in keys:\n",
    "        return lines_dict[line]\n",
    "    else:\n",
    "        float_keys = [float(i) for i in keys]\n",
    "        delta_float_keys = np.abs(np.array(float_keys) - float(line))\n",
    "        min_ind = delta_float_keys.argmin()\n",
    "        \n",
    "        if delta_float_keys[min_ind] <= dw:\n",
    "            return values[min_ind]\n",
    "        else:\n",
    "            return None"
   ]
  },
  {
   "cell_type": "code",
   "execution_count": 4,
   "id": "automatic-distribution",
   "metadata": {},
   "outputs": [],
   "source": [
    "# Helper function to check that input parameters are within bounds\n",
    "def find_bounds_html(html, elem, n):\n",
    "    pattern = 'class=\"\"></td><td>.*?</td></tr>'\n",
    "\n",
    "    lst = []\n",
    "    \n",
    "    for m in re.finditer(pattern, html):\n",
    "        trunc = html[m.start():m.end()]\n",
    "        trunc = trunc.strip('class=\"\"></td></tr>[]').split(',')\n",
    "        i = [float(j) for j in trunc]\n",
    "        lst.append(i)\n",
    "        \n",
    "    return(lst)"
   ]
  },
  {
   "cell_type": "code",
   "execution_count": 5,
   "id": "specialized-hawaiian",
   "metadata": {},
   "outputs": [],
   "source": [
    "def return_params(elem, e, t, g, f, v, line, EW = False):\n",
    "    \"\"\"\n",
    "    DESCRIPTION -------------------------------------------------------------\n",
    "        Given input parameters, return the NLTE correction performed by INSPECT.\n",
    "    \n",
    "    PARAMETERS --------------------------------------------------------------\n",
    "        elem (str) - a chemical element that is in the format of the contents of\n",
    "            elem_list, defined in the second code-block.\n",
    "        e (float) - if EW == True: the equivalent width of element at line\n",
    "                    if EW == False: the abundance of element at line\n",
    "        t (float) - the effective temperature of your star\n",
    "        g (float) - the surface gravity of your star\n",
    "        f (float) - the metallicity [Fe/H] of your star\n",
    "        v (float) - the micro-turbulent velocity of your star\n",
    "        line (float) - the line at which you want the NLTE correction to be performed\n",
    "        \n",
    "    RETURNS ----------------------------------------------------------------\n",
    "        list(float) - the returned NLTE correction at element X in the format:\n",
    "            [elem,\n",
    "            line,\n",
    "            EW (mA), \n",
    "            A(X) LTE, \n",
    "            A(X) NLTE, \n",
    "            Delta, \n",
    "            [X/Fe] NLTE]\n",
    "            \n",
    "            If the correction is not able to be performed, each value is replaced\n",
    "            with '888'\n",
    "    \"\"\"\n",
    "    # If the calculation can not be performed for any reason, this will be\n",
    "    #  returned\n",
    "    issue_response = [elem, line, 999, 999, 999, 999, 999]\n",
    "    issue_txt = ':' + str(elem) + ' @ ' + str(line) + ' '\n",
    "    \n",
    "    input_nums = [e, t, g, f, v]\n",
    "    input_names = ['Abundance A(X)', 'Temp', 'Log(g)', 'Metallicity', 'Microturbulence']\n",
    "    if EW == True:\n",
    "        input_names[0] = 'EW'\n",
    "    \n",
    "    # Checking if the inputted element is able to be processed\n",
    "    if elem in elem_list:\n",
    "        elem_url = app_url + 'nonlte_from_lte?element_name=' + elem\n",
    "        if EW == True:\n",
    "            elem_url = app_url + 'A_from_e?element_name=' + elem\n",
    "    else:\n",
    "        print('Sorry, element not in element list' + issue_txt)\n",
    "        return issue_response\n",
    "    \n",
    "    # Because Ti & Fe don't take the metallicity input, this is necessary\n",
    "    n = 5\n",
    "    if elem in ['Ti', 'Fe']:\n",
    "        input_nums.pop(3)\n",
    "        input_names.pop(3)\n",
    "        n = 4\n",
    "    \n",
    "    # Creating a list with all of the wavelengths available for this element\n",
    "    lines_dict = {}\n",
    "    \n",
    "    html = urlopen(elem_url).read().decode(\"utf-8\")\n",
    "    pattern = \"<option.*?>.*?</option.*?>\"\n",
    "    for match in re.finditer(pattern, html):\n",
    "        trunc = html[match.start():match.end()]\n",
    "        trunc = trunc.strip('<option value\"></=').replace('\"', '').split(\">\")\n",
    "        if len(trunc) > 1:\n",
    "            lines_dict[trunc[1]] = int(trunc[0])\n",
    "    \n",
    "    # Checking all of the bounds for the input-able parameters\n",
    "    bounds = find_bounds_html(html, elem, n)\n",
    "    for ind, input_num in enumerate(input_nums):\n",
    "        bound = bounds[ind]\n",
    "        if not (input_num >= bound[0]) & (input_num <= bound[1]):\n",
    "            print('Sorry, cannot perform calculation' + issue_txt)\n",
    "            print(input_names[ind], 'must be within', bound)\n",
    "            return issue_response\n",
    "    \n",
    "    line_index = check_near(line, lines_dict)\n",
    "    if line_index == None:\n",
    "        print('Sorry, input wavelength not in list' + issue_txt)\n",
    "        return issue_response\n",
    "\n",
    "    # Actually submitting the inputs to the NLTE correction\n",
    "    # Note, for Ti & Fe adding the metallicity doesn't affect the product, so no\n",
    "    #  need to actually go and remove it from the submission\n",
    "    \n",
    "    url_extension = '&A_lte={}&t={}&g={}&f={}&x={}&wi={}'.format(e, t, g, f, v, line_index)\n",
    "    if EW == True:\n",
    "        url_extension = '&e={}&t={}&g={}&f={}&x={}&wi={}'.format(e, t, g, f, v, line_index)\n",
    "    \n",
    "    submit_url = elem_url + url_extension\n",
    "    \n",
    "    submit_html = urlopen(submit_url).read().decode(\"utf-8\")\n",
    "    \n",
    "    if 'Calculation failed' in submit_html:\n",
    "        print('No data for this equivalent width' + issue_txt)\n",
    "        return issue_response\n",
    "    \n",
    "    results = submit_html.split('pre')[1].split('\\n')[3].split('\\t')\n",
    "    \n",
    "    # For results that can't be computed, replace nan w/ 999 just for easier handling\n",
    "    #  and turn all strings into floats at the same time\n",
    "    for count, i in enumerate(results):\n",
    "        if i == 'nan':\n",
    "            results[count] = 999\n",
    "        else: \n",
    "            results[count] = eval(i)\n",
    "\n",
    "    results.insert(0, elem)\n",
    "    results.insert(1, line)\n",
    "    \n",
    "    return results"
   ]
  },
  {
   "cell_type": "markdown",
   "id": "absolute-camera",
   "metadata": {},
   "source": [
    "## Example of one line usage"
   ]
  },
  {
   "cell_type": "code",
   "execution_count": 6,
   "id": "reliable-project",
   "metadata": {},
   "outputs": [
    {
     "name": "stdout",
     "output_type": "stream",
     "text": [
      "Sorry, element not in element list:Ok @ 6103.6 \n"
     ]
    },
    {
     "data": {
      "text/plain": [
       "['Ok', 6103.6, 999, 999, 999, 999, 999]"
      ]
     },
     "execution_count": 6,
     "metadata": {},
     "output_type": "execute_result"
    }
   ],
   "source": [
    "return_params('Ok', 20, 6000, 2, -3, 1, 6103.6, EW=True)"
   ]
  },
  {
   "cell_type": "code",
   "execution_count": 7,
   "id": "923f2e5d",
   "metadata": {},
   "outputs": [
    {
     "data": {
      "text/plain": [
       "['Li', 6103.6, 182.67, 4.2, 4.126, -0.074, 6.076]"
      ]
     },
     "execution_count": 7,
     "metadata": {},
     "output_type": "execute_result"
    }
   ],
   "source": [
    "return_params('Li', 4.2, 5000, 3.24, -3, 1.5, 6103.6)"
   ]
  },
  {
   "cell_type": "markdown",
   "id": "c3a8181f",
   "metadata": {},
   "source": [
    "### For easy use, input data format should follow a convention similar to:\n",
    "\n",
    "```python\n",
    "df = pd.DataFrame(data_array)\n",
    "df.columns = ['elem', 'EW', 'line'] # or ['elem', 'A(X)', 'line']\n",
    "star_info = ['T', 'log(g)', '[Fe/H]', 'vt'] # Can import directly from the atmosphere params csv\n",
    "```\n",
    "\n",
    "#### Note: the element name column ('elem' in the example) should follow the convention in elem_list.\n",
    "To quickly convert a numeric id to the string required to run the script, using pandas,\n",
    "I find that this following method works great:\n",
    "\n",
    "```python\n",
    "elem_dict = {3:'Li', 8:'O', 11:'Na', 12:'Mg', 22:'Ti', 26:'Fe', 38:'Sr'}\n",
    "df[['elem']] = df[['elem']].round().replace(elem_dict)\n",
    "```\n",
    "\n",
    "#### And this is a quick way to run multiple lines into the script\n",
    "```python\n",
    "data = []\n",
    "for i in range(len(df['A(X)'])):\n",
    "    A = df['A(X)'][i]\n",
    "    elem = df['elem'][i]\n",
    "    line = df['line'][i]\n",
    "    params_i = return_params(elem, A, *star_info, line) # Runs one line at a time\n",
    "    data.append(params_i)\n",
    "\n",
    "data = np.vstack(data)\n",
    "\n",
    "df = pd.DataFrame(data)\n",
    "elem = 'X'\n",
    "sub = 'Fe'\n",
    "if elem == 'Fe':\n",
    "    sub = 'H'\n",
    "\n",
    "header = 'Elem:Line:EW [mA]:A({}) LTE:A({}) NLTE:Delta:[{}/{}]'.format(elem, elem, elem, sub).split(':')\n",
    "df.columns= header\n",
    "```"
   ]
  },
  {
   "cell_type": "markdown",
   "id": "521f859e",
   "metadata": {},
   "source": [
    "## Example of multi-line usage:"
   ]
  },
  {
   "cell_type": "code",
   "execution_count": 13,
   "id": "0f5cc0bb",
   "metadata": {},
   "outputs": [],
   "source": [
    "elem = [3, 12, 11, 26.1, 9, 5, 22, 22.1]\n",
    "ax = [3.3, 4, 4, 5.7, 5, 8, 3.8, 4]\n",
    "line = [6103.6, 5172.68, 5688.2, 3815.84, 5638.2, 8392.9, 5702.67, 6092.798]\n",
    "\n",
    "df = pd.DataFrame(np.transpose([elem, ax, line]))\n",
    "df.columns = ['elem', 'A(X)', 'line']\n",
    "star_info = [6400, 3, -3, 1.5]\n",
    "\n",
    "elem_dict = {3:'Li', 8:'O', 11:'Na', 12:'Mg', 22:'Ti', 26:'Fe', 38:'Sr'}\n",
    "df[['elem']] = df[['elem']].round().replace(elem_dict)"
   ]
  },
  {
   "cell_type": "code",
   "execution_count": 14,
   "id": "76673089",
   "metadata": {},
   "outputs": [
    {
     "name": "stdout",
     "output_type": "stream",
     "text": [
      "No data for this equivalent width:Mg @ 5172.68 \n",
      "Sorry, element not in element list:9.0 @ 5638.2 \n",
      "Sorry, element not in element list:5.0 @ 8392.9 \n",
      "Sorry, cannot perform calculation:Ti @ 5702.67 \n",
      "Microturbulence must be within [1.0, 1.0]\n",
      "Sorry, cannot perform calculation:Ti @ 6092.798 \n",
      "Microturbulence must be within [1.0, 1.0]\n"
     ]
    }
   ],
   "source": [
    "data = []\n",
    "for i in range(len(df['A(X)'])):\n",
    "    A = df['A(X)'][i]\n",
    "    elem = df['elem'][i]\n",
    "    line = df['line'][i]\n",
    "    params_i = return_params(elem, A, *star_info, line) # Runs one line at a time\n",
    "    data.append(params_i)\n",
    "\n",
    "data = np.vstack(data)\n",
    "\n",
    "results = pd.DataFrame(data)\n",
    "elem = 'X'\n",
    "sub = 'Fe'\n",
    "if elem == 'Fe':\n",
    "    sub = 'H'\n",
    "\n",
    "header = 'Elem:Line:EW [mA]:A({}) LTE:A({}) NLTE:Delta:[{}/{}]'.format(elem, elem, elem, sub).split(':')\n",
    "results.columns= header"
   ]
  },
  {
   "cell_type": "code",
   "execution_count": 15,
   "id": "7e3b1a90",
   "metadata": {},
   "outputs": [
    {
     "name": "stdout",
     "output_type": "stream",
     "text": [
      "  Elem      Line EW [mA] A(X) LTE A(X) NLTE   Delta [X/Fe]\n",
      "0   Li    6103.6   13.71      3.3     3.363   0.063  5.313\n",
      "1   Mg   5172.68     999      999       999     999    999\n",
      "2   Na    5688.2    2.58      4.0     3.911  -0.089  0.661\n",
      "3   Fe   3815.84  122.82      5.7      5.79    0.09  -1.66\n",
      "4  9.0    5638.2   999.0    999.0     999.0   999.0  999.0\n",
      "5  5.0    8392.9   999.0    999.0     999.0   999.0  999.0\n",
      "6   Ti   5702.67     999      999       999     999    999\n",
      "7   Ti  6092.798     999      999       999     999    999\n"
     ]
    }
   ],
   "source": [
    "print(results)"
   ]
  }
 ],
 "metadata": {
  "kernelspec": {
   "display_name": "Python 3 (ipykernel)",
   "language": "python",
   "name": "python3"
  },
  "language_info": {
   "codemirror_mode": {
    "name": "ipython",
    "version": 3
   },
   "file_extension": ".py",
   "mimetype": "text/x-python",
   "name": "python",
   "nbconvert_exporter": "python",
   "pygments_lexer": "ipython3",
   "version": "3.7.16"
  }
 },
 "nbformat": 4,
 "nbformat_minor": 5
}
